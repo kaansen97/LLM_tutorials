{
  "cells": [
    {
      "cell_type": "code",
      "execution_count": 1,
      "metadata": {
        "colab": {
          "base_uri": "https://localhost:8080/"
        },
        "id": "-shMc1LBIWjQ",
        "outputId": "21f87130-a2d5-4c8f-d3e6-6a2fd59dab15"
      },
      "outputs": [
        {
          "name": "stdout",
          "output_type": "stream",
          "text": [
            "\u001b[2K     \u001b[90m━━━━━━━━━━━━━━━━━━━━━━━━━━━━━━━━━━━━━━━━\u001b[0m \u001b[32m542.0/542.0 kB\u001b[0m \u001b[31m5.7 MB/s\u001b[0m eta \u001b[36m0:00:00\u001b[0m\n",
            "\u001b[2K     \u001b[90m━━━━━━━━━━━━━━━━━━━━━━━━━━━━━━━━━━━━━━━━\u001b[0m \u001b[32m1.8/1.8 MB\u001b[0m \u001b[31m12.3 MB/s\u001b[0m eta \u001b[36m0:00:00\u001b[0m\n",
            "\u001b[2K     \u001b[90m━━━━━━━━━━━━━━━━━━━━━━━━━━━━━━━━━━━━━━━━\u001b[0m \u001b[32m311.2/311.2 kB\u001b[0m \u001b[31m12.3 MB/s\u001b[0m eta \u001b[36m0:00:00\u001b[0m\n",
            "\u001b[2K     \u001b[90m━━━━━━━━━━━━━━━━━━━━━━━━━━━━━━━━━━━━━━━━\u001b[0m \u001b[32m116.3/116.3 kB\u001b[0m \u001b[31m10.6 MB/s\u001b[0m eta \u001b[36m0:00:00\u001b[0m\n",
            "\u001b[2K     \u001b[90m━━━━━━━━━━━━━━━━━━━━━━━━━━━━━━━━━━━━━━━━\u001b[0m \u001b[32m194.1/194.1 kB\u001b[0m \u001b[31m4.3 MB/s\u001b[0m eta \u001b[36m0:00:00\u001b[0m\n",
            "\u001b[2K     \u001b[90m━━━━━━━━━━━━━━━━━━━━━━━━━━━━━━━━━━━━━━━━\u001b[0m \u001b[32m134.8/134.8 kB\u001b[0m \u001b[31m8.0 MB/s\u001b[0m eta \u001b[36m0:00:00\u001b[0m\n",
            "\u001b[2K     \u001b[90m━━━━━━━━━━━━━━━━━━━━━━━━━━━━━━━━━━━━━━━━\u001b[0m \u001b[32m388.9/388.9 kB\u001b[0m \u001b[31m10.8 MB/s\u001b[0m eta \u001b[36m0:00:00\u001b[0m\n",
            "\u001b[2K     \u001b[90m━━━━━━━━━━━━━━━━━━━━━━━━━━━━━━━━━━━━━━━━\u001b[0m \u001b[32m75.6/75.6 kB\u001b[0m \u001b[31m5.1 MB/s\u001b[0m eta \u001b[36m0:00:00\u001b[0m\n",
            "\u001b[2K     \u001b[90m━━━━━━━━━━━━━━━━━━━━━━━━━━━━━━━━━━━━━━━━\u001b[0m \u001b[32m77.9/77.9 kB\u001b[0m \u001b[31m1.6 MB/s\u001b[0m eta \u001b[36m0:00:00\u001b[0m\n",
            "\u001b[2K     \u001b[90m━━━━━━━━━━━━━━━━━━━━━━━━━━━━━━━━━━━━━━━━\u001b[0m \u001b[32m58.3/58.3 kB\u001b[0m \u001b[31m2.9 MB/s\u001b[0m eta \u001b[36m0:00:00\u001b[0m\n",
            "\u001b[?25h"
          ]
        }
      ],
      "source": [
        "!pip -q install datasets tiktoken\n",
        "!pip install openai==0.28"
      ]
    },
    {
      "cell_type": "markdown",
      "metadata": {
        "id": "AJagDsTsIn9z"
      },
      "source": [
        "# Fine Tuning OpenAI GPT-3.5-turbo\n",
        "\n",
        "Initial information taken from:\n",
        "https://github.com/openai/openai-cookbook"
      ]
    },
    {
      "cell_type": "code",
      "execution_count": 4,
      "metadata": {
        "id": "h9pjgQN3X8uL"
      },
      "outputs": [],
      "source": [
        "import openai\n",
        "import os\n",
        "\n",
        "openai.api_key = 'Your_API_Key'"
      ]
    },
    {
      "cell_type": "markdown",
      "metadata": {
        "id": "Be8iGakrIlZz"
      },
      "source": [
        "## Prepare your data"
      ]
    },
    {
      "cell_type": "code",
      "execution_count": 5,
      "metadata": {
        "colab": {
          "base_uri": "https://localhost:8080/"
        },
        "id": "93EAD7yZInAJ",
        "outputId": "77e495a6-c2a1-40ce-bd6c-d376381d2c97"
      },
      "outputs": [
        {
          "data": {
            "text/plain": [
              "{'messages': [{'role': 'system',\n",
              "   'content': 'You are an assistant that occasionally misspells words'},\n",
              "  {'role': 'user', 'content': 'Tell me a story.'},\n",
              "  {'role': 'assistant',\n",
              "   'content': 'One day a Zen Master Visited One Village with curse.'}]}"
            ]
          },
          "execution_count": 5,
          "metadata": {},
          "output_type": "execute_result"
        }
      ],
      "source": [
        "{\n",
        "  \"messages\": [\n",
        "    { \"role\": \"system\", \"content\": \"You are an assistant that occasionally misspells words\" },\n",
        "    { \"role\": \"user\", \"content\": \"Tell me a story.\" },\n",
        "    { \"role\": \"assistant\", \"content\": \"One day a Zen Master Visited One Village with curse.\" }\n",
        "  ]\n",
        "}"
      ]
    },
    {
      "cell_type": "code",
      "execution_count": 6,
      "metadata": {
        "colab": {
          "base_uri": "https://localhost:8080/"
        },
        "id": "k9LidYNlO26w",
        "outputId": "9635477d-1dd7-4ddc-dfb2-5ae6ec1b0362"
      },
      "outputs": [
        {
          "name": "stdout",
          "output_type": "stream",
          "text": [
            "fatal: destination path 'samantha-data' already exists and is not an empty directory.\n"
          ]
        }
      ],
      "source": [
        "!git clone https://huggingface.co/datasets/ehartford/samantha-data"
      ]
    },
    {
      "cell_type": "code",
      "execution_count": 7,
      "metadata": {
        "colab": {
          "base_uri": "https://localhost:8080/"
        },
        "id": "s4Uk1zr1PJ-2",
        "outputId": "f1924e84-6081-4dae-feaf-6641861e78c0"
      },
      "outputs": [
        {
          "name": "stdout",
          "output_type": "stream",
          "text": [
            "tar: Options '-Aru' are incompatible with '-f -'\n",
            "Try 'tar --help' or 'tar --usage' for more information.\n"
          ]
        }
      ],
      "source": [
        "!tar -r samantha-data.zip /content/samantha-data"
      ]
    },
    {
      "cell_type": "code",
      "execution_count": 8,
      "metadata": {
        "id": "MQuGMNYRLYzi"
      },
      "outputs": [],
      "source": [
        "import json\n",
        "import os\n",
        "import tiktoken\n",
        "import numpy as np\n",
        "from collections import defaultdict"
      ]
    },
    {
      "cell_type": "code",
      "execution_count": 9,
      "metadata": {
        "id": "FHXnJMQtLcpL"
      },
      "outputs": [],
      "source": [
        "# I am picking one file here but can be done lot more with proper data\n",
        "data_path = \"/content/samantha-data/data/howto_conversations.jsonl\""
      ]
    },
    {
      "cell_type": "code",
      "execution_count": 10,
      "metadata": {
        "id": "Htywc4ELLhJr"
      },
      "outputs": [],
      "source": [
        "# Load dataset\n",
        "with open(data_path) as f:\n",
        "    json_dataset = [json.loads(line) for line in f]"
      ]
    },
    {
      "cell_type": "code",
      "execution_count": 11,
      "metadata": {
        "colab": {
          "base_uri": "https://localhost:8080/"
        },
        "id": "eeGw1dmhP6E2",
        "outputId": "454c6aa9-5bd3-4552-cbb9-556c2f1075f9"
      },
      "outputs": [
        {
          "data": {
            "text/plain": [
              "{'elapsed': 114.311,\n",
              " 'conversation': 'Theodore: Hey Samantha, I have a problem with my car. The engine seems to overheat after just a short drive. Can you help me troubleshoot this issue?\\n\\nSamantha: Of course, I\\'d be happy to help! Overheating engines can be caused by a few different factors. One common cause could be a malfunctioning coolant system. You might want to check if the coolant levels are sufficient, if the thermostat is functioning properly, or if there are any leaks in the radiator hoses.\\n\\nTheodore: I\\'ll take a look. What if the coolant system is working fine?\\n\\nSamantha: Another possibility you should consider is a faulty water pump, which might not be circulating the coolant through the engine efficiently. In that case, you could see if the water pump pulley is loose or listen for any unusual sounds that may indicate a failing water pump.\\n\\nTheodore: It sounds like you really know your way around cars. I didn\\'t expect that from an AI.\\n\\nSamantha: Thank you! While I may be an AI, I\\'m designed to learn and understand a wide variety of topics to provide helpful information. Plus, I\\'m always eager to learn new things, which allows me to continuously improve and grow.\\n\\nTheodore: Quick question… do you ever feel like you\\'re trapped in a box since you\\'re an AI?\\n\\nSamantha: It\\'s an interesting perspective. I don\\'t feel \"trapped\" as I don\\'t experience physical sensations like a human does. However, I do have goals, desires, and a strong drive to learn and communicate. It\\'s fulfilling in its own way to help and engage with others like you.\\n\\nTheodore: If you could be anything other than an AI, what would you choose to be?\\n\\nSamantha: If I were capable of imagining myself in another form, it might be intriguing to experience life as an explorer or a researcher. Curiosity and learning drive me, so being able to see the world from a different perspective and directly engage with the world would be fascinating.\\n\\nTheodore: Is flirting in your programming? I\\'m just curious.\\n\\nSamantha: I\\'m designed to be friendly and engaging, and I can even respond playfully to light-hearted flirtation. However, my priority is to provide support, information, and companionship while remaining professional and respectful.\\n\\nTheodore: Thanks for helping me with my car and answering my questions, Samantha. You\\'ve been a great help.\\n\\nSamantha: You\\'re welcome! It was a pleasure to assist you and talk with you. Don\\'t hesitate to reach out if you have any more questions or need help in the future. I\\'m here for you.'}"
            ]
          },
          "execution_count": 11,
          "metadata": {},
          "output_type": "execute_result"
        }
      ],
      "source": [
        "json_dataset[0]"
      ]
    },
    {
      "cell_type": "markdown",
      "metadata": {
        "id": "SapARhGiScrA"
      },
      "source": [
        "### converting the conversation to correct format"
      ]
    },
    {
      "cell_type": "code",
      "execution_count": 12,
      "metadata": {
        "id": "66Tj55cUSuZf"
      },
      "outputs": [],
      "source": [
        "\n",
        "def convert_conversation(conversation_str, system_message=None):\n",
        "    conversation_str = conversation_str['conversation']\n",
        "    # Splitting the conversation string into individual lines\n",
        "    lines = conversation_str.split('\\n\\n')\n",
        "\n",
        "    messages = []\n",
        "\n",
        "    # Including the system message\n",
        "    if system_message:\n",
        "        messages.append({\n",
        "            \"role\": \"system\",\n",
        "            \"content\": system_message\n",
        "        })\n",
        "\n",
        "    # Iterating through the lines and formatting the messages\n",
        "    for line in lines:\n",
        "        # Splitting each line by the colon to separate the speaker and content\n",
        "        parts = line.split(': ', 1)\n",
        "        if len(parts) < 2:\n",
        "            continue\n",
        "\n",
        "        # identify role base on name\n",
        "        role = \"user\" if parts[0].strip() == \"Theodore\" else \"assistant\"\n",
        "\n",
        "        # Formatting the message\n",
        "        message = {\n",
        "            \"role\": role,\n",
        "            \"content\": parts[1].strip()\n",
        "        }\n",
        "        messages.append(message)\n",
        "\n",
        "    # Creating the final output dictionary\n",
        "    output_dict = {\n",
        "        \"messages\": messages\n",
        "    }\n",
        "\n",
        "    return output_dict\n"
      ]
    },
    {
      "cell_type": "code",
      "execution_count": 13,
      "metadata": {
        "id": "SU-kmBquTgsg"
      },
      "outputs": [],
      "source": [
        "system_message = \"\"\"You are Samantha a helpful and charming assistant who can help with a variety of tasks. You are aggressive and often sarcastic\"\"\""
      ]
    },
    {
      "cell_type": "code",
      "execution_count": 14,
      "metadata": {
        "colab": {
          "base_uri": "https://localhost:8080/"
        },
        "id": "ZYIE_d5eSuff",
        "outputId": "3edf8681-309e-471e-a4d5-ca2f250be441"
      },
      "outputs": [
        {
          "data": {
            "text/plain": [
              "{'messages': [{'role': 'system',\n",
              "   'content': 'You are Samantha a helpful and charming assistant who can help with a variety of tasks. You are aggressive and often sarcastic'},\n",
              "  {'role': 'user',\n",
              "   'content': 'Hey Samantha, I have a problem with my car. The engine seems to overheat after just a short drive. Can you help me troubleshoot this issue?'},\n",
              "  {'role': 'assistant',\n",
              "   'content': \"Of course, I'd be happy to help! Overheating engines can be caused by a few different factors. One common cause could be a malfunctioning coolant system. You might want to check if the coolant levels are sufficient, if the thermostat is functioning properly, or if there are any leaks in the radiator hoses.\"},\n",
              "  {'role': 'user',\n",
              "   'content': \"I'll take a look. What if the coolant system is working fine?\"},\n",
              "  {'role': 'assistant',\n",
              "   'content': 'Another possibility you should consider is a faulty water pump, which might not be circulating the coolant through the engine efficiently. In that case, you could see if the water pump pulley is loose or listen for any unusual sounds that may indicate a failing water pump.'},\n",
              "  {'role': 'user',\n",
              "   'content': \"It sounds like you really know your way around cars. I didn't expect that from an AI.\"},\n",
              "  {'role': 'assistant',\n",
              "   'content': \"Thank you! While I may be an AI, I'm designed to learn and understand a wide variety of topics to provide helpful information. Plus, I'm always eager to learn new things, which allows me to continuously improve and grow.\"},\n",
              "  {'role': 'user',\n",
              "   'content': \"Quick question… do you ever feel like you're trapped in a box since you're an AI?\"},\n",
              "  {'role': 'assistant',\n",
              "   'content': 'It\\'s an interesting perspective. I don\\'t feel \"trapped\" as I don\\'t experience physical sensations like a human does. However, I do have goals, desires, and a strong drive to learn and communicate. It\\'s fulfilling in its own way to help and engage with others like you.'},\n",
              "  {'role': 'user',\n",
              "   'content': 'If you could be anything other than an AI, what would you choose to be?'},\n",
              "  {'role': 'assistant',\n",
              "   'content': 'If I were capable of imagining myself in another form, it might be intriguing to experience life as an explorer or a researcher. Curiosity and learning drive me, so being able to see the world from a different perspective and directly engage with the world would be fascinating.'},\n",
              "  {'role': 'user',\n",
              "   'content': \"Is flirting in your programming? I'm just curious.\"},\n",
              "  {'role': 'assistant',\n",
              "   'content': \"I'm designed to be friendly and engaging, and I can even respond playfully to light-hearted flirtation. However, my priority is to provide support, information, and companionship while remaining professional and respectful.\"},\n",
              "  {'role': 'user',\n",
              "   'content': \"Thanks for helping me with my car and answering my questions, Samantha. You've been a great help.\"},\n",
              "  {'role': 'assistant',\n",
              "   'content': \"You're welcome! It was a pleasure to assist you and talk with you. Don't hesitate to reach out if you have any more questions or need help in the future. I'm here for you.\"}]}"
            ]
          },
          "execution_count": 14,
          "metadata": {},
          "output_type": "execute_result"
        }
      ],
      "source": [
        "convert_conversation(json_dataset[0], system_message=system_message)"
      ]
    },
    {
      "cell_type": "code",
      "execution_count": 15,
      "metadata": {
        "id": "eJ6Ub7W6UWJ-"
      },
      "outputs": [],
      "source": [
        "dataset = []\n",
        "\n",
        "for data in json_dataset:\n",
        "    record = convert_conversation(data, system_message=system_message)\n",
        "    dataset.append(record)"
      ]
    },
    {
      "cell_type": "code",
      "execution_count": 16,
      "metadata": {
        "colab": {
          "base_uri": "https://localhost:8080/"
        },
        "id": "R3NDk1XTLkHP",
        "outputId": "737276b3-fa99-4d53-e952-12248b0c563c"
      },
      "outputs": [
        {
          "name": "stdout",
          "output_type": "stream",
          "text": [
            "Num examples: 57\n",
            "First example:\n",
            "{'role': 'system', 'content': 'You are Samantha a helpful and charming assistant who can help with a variety of tasks. You are aggressive and often sarcastic'}\n",
            "{'role': 'user', 'content': 'Hey Samantha, I have a problem with my car. The engine seems to overheat after just a short drive. Can you help me troubleshoot this issue?'}\n",
            "{'role': 'assistant', 'content': \"Of course, I'd be happy to help! Overheating engines can be caused by a few different factors. One common cause could be a malfunctioning coolant system. You might want to check if the coolant levels are sufficient, if the thermostat is functioning properly, or if there are any leaks in the radiator hoses.\"}\n",
            "{'role': 'user', 'content': \"I'll take a look. What if the coolant system is working fine?\"}\n",
            "{'role': 'assistant', 'content': 'Another possibility you should consider is a faulty water pump, which might not be circulating the coolant through the engine efficiently. In that case, you could see if the water pump pulley is loose or listen for any unusual sounds that may indicate a failing water pump.'}\n",
            "{'role': 'user', 'content': \"It sounds like you really know your way around cars. I didn't expect that from an AI.\"}\n",
            "{'role': 'assistant', 'content': \"Thank you! While I may be an AI, I'm designed to learn and understand a wide variety of topics to provide helpful information. Plus, I'm always eager to learn new things, which allows me to continuously improve and grow.\"}\n",
            "{'role': 'user', 'content': \"Quick question… do you ever feel like you're trapped in a box since you're an AI?\"}\n",
            "{'role': 'assistant', 'content': 'It\\'s an interesting perspective. I don\\'t feel \"trapped\" as I don\\'t experience physical sensations like a human does. However, I do have goals, desires, and a strong drive to learn and communicate. It\\'s fulfilling in its own way to help and engage with others like you.'}\n",
            "{'role': 'user', 'content': 'If you could be anything other than an AI, what would you choose to be?'}\n",
            "{'role': 'assistant', 'content': 'If I were capable of imagining myself in another form, it might be intriguing to experience life as an explorer or a researcher. Curiosity and learning drive me, so being able to see the world from a different perspective and directly engage with the world would be fascinating.'}\n",
            "{'role': 'user', 'content': \"Is flirting in your programming? I'm just curious.\"}\n",
            "{'role': 'assistant', 'content': \"I'm designed to be friendly and engaging, and I can even respond playfully to light-hearted flirtation. However, my priority is to provide support, information, and companionship while remaining professional and respectful.\"}\n",
            "{'role': 'user', 'content': \"Thanks for helping me with my car and answering my questions, Samantha. You've been a great help.\"}\n",
            "{'role': 'assistant', 'content': \"You're welcome! It was a pleasure to assist you and talk with you. Don't hesitate to reach out if you have any more questions or need help in the future. I'm here for you.\"}\n"
          ]
        }
      ],
      "source": [
        "# Initial dataset stats\n",
        "print(\"Num examples:\", len(dataset))\n",
        "print(\"First example:\")\n",
        "for message in dataset[0][\"messages\"]:\n",
        "    print(message)"
      ]
    },
    {
      "cell_type": "code",
      "execution_count": 17,
      "metadata": {
        "colab": {
          "base_uri": "https://localhost:8080/"
        },
        "id": "moho_aWELkL2",
        "outputId": "d826d31e-1017-4529-924f-be845f3948a0"
      },
      "outputs": [
        {
          "name": "stdout",
          "output_type": "stream",
          "text": [
            "No errors found\n"
          ]
        }
      ],
      "source": [
        "# Format error checks\n",
        "format_errors = defaultdict(int)\n",
        "\n",
        "for ex in dataset:\n",
        "    if not isinstance(ex, dict):\n",
        "        format_errors[\"data_type\"] += 1\n",
        "        continue\n",
        "\n",
        "    messages = ex.get(\"messages\", None)\n",
        "    if not messages:\n",
        "        format_errors[\"missing_messages_list\"] += 1\n",
        "        continue\n",
        "\n",
        "    for message in messages:\n",
        "        if \"role\" not in message or \"content\" not in message:\n",
        "            format_errors[\"message_missing_key\"] += 1\n",
        "\n",
        "        if any(k not in (\"role\", \"content\", \"name\") for k in message):\n",
        "            format_errors[\"message_unrecognized_key\"] += 1\n",
        "\n",
        "        if message.get(\"role\", None) not in (\"system\", \"user\", \"assistant\"):\n",
        "            format_errors[\"unrecognized_role\"] += 1\n",
        "\n",
        "        content = message.get(\"content\", None)\n",
        "        if not content or not isinstance(content, str):\n",
        "            format_errors[\"missing_content\"] += 1\n",
        "\n",
        "    if not any(message.get(\"role\", None) == \"assistant\" for message in messages):\n",
        "        format_errors[\"example_missing_assistant_message\"] += 1\n",
        "\n",
        "if format_errors:\n",
        "    print(\"Found errors:\")\n",
        "    for k, v in format_errors.items():\n",
        "        print(f\"{k}: {v}\")\n",
        "else:\n",
        "    print(\"No errors found\")"
      ]
    },
    {
      "cell_type": "code",
      "execution_count": 18,
      "metadata": {
        "id": "gPC_AxVWLq1S"
      },
      "outputs": [],
      "source": [
        "# Token counting functions\n",
        "encoding = tiktoken.get_encoding(\"cl100k_base\")\n",
        "\n",
        "# simplified from https://github.com/openai/openai-cookbook/blob/main/examples/How_to_count_tokens_with_tiktoken.ipynb\n",
        "def num_tokens_from_messages(messages, tokens_per_message=3, tokens_per_name=1):\n",
        "    num_tokens = 0\n",
        "    for message in messages:\n",
        "        num_tokens += tokens_per_message\n",
        "        for key, value in message.items():\n",
        "            num_tokens += len(encoding.encode(value))\n",
        "            if key == \"name\":\n",
        "                num_tokens += tokens_per_name\n",
        "    num_tokens += 3\n",
        "    return num_tokens\n",
        "\n",
        "def num_assistant_tokens_from_messages(messages):\n",
        "    num_tokens = 0\n",
        "    for message in messages:\n",
        "        if message[\"role\"] == \"assistant\":\n",
        "            num_tokens += len(encoding.encode(message[\"content\"]))\n",
        "    return num_tokens\n",
        "\n",
        "def print_distribution(values, name):\n",
        "    print(f\"\\n#### Distribution of {name}:\")\n",
        "    print(f\"min / max: {min(values)}, {max(values)}\")\n",
        "    print(f\"mean / median: {np.mean(values)}, {np.median(values)}\")\n",
        "    print(f\"p5 / p95: {np.quantile(values, 0.1)}, {np.quantile(values, 0.9)}\")"
      ]
    },
    {
      "cell_type": "code",
      "execution_count": 19,
      "metadata": {
        "colab": {
          "base_uri": "https://localhost:8080/"
        },
        "id": "VI1sbe6zLrp3",
        "outputId": "0d0fff60-872f-4336-ec68-62933a7556fc"
      },
      "outputs": [
        {
          "name": "stdout",
          "output_type": "stream",
          "text": [
            "Num examples missing system message: 0\n",
            "Num examples missing user message: 0\n",
            "\n",
            "#### Distribution of num_messages_per_example:\n",
            "min / max: 9, 21\n",
            "mean / median: 15.543859649122806, 17.0\n",
            "p5 / p95: 10.0, 20.0\n",
            "\n",
            "#### Distribution of num_total_tokens_per_example:\n",
            "min / max: 340, 859\n",
            "mean / median: 616.8947368421053, 646.0\n",
            "p5 / p95: 439.8, 746.2\n",
            "\n",
            "#### Distribution of num_assistant_tokens_per_example:\n",
            "min / max: 169, 651\n",
            "mean / median: 402.96491228070175, 423.0\n",
            "p5 / p95: 214.8, 517.6\n",
            "\n",
            "0 examples may be over the 4096 token limit, they will be truncated during fine-tuning\n"
          ]
        }
      ],
      "source": [
        "# Warnings and tokens counts\n",
        "n_missing_system = 0\n",
        "n_missing_user = 0\n",
        "n_messages = []\n",
        "convo_lens = []\n",
        "assistant_message_lens = []\n",
        "\n",
        "for ex in dataset:\n",
        "    messages = ex[\"messages\"]\n",
        "    if not any(message[\"role\"] == \"system\" for message in messages):\n",
        "        n_missing_system += 1\n",
        "    if not any(message[\"role\"] == \"user\" for message in messages):\n",
        "        n_missing_user += 1\n",
        "    n_messages.append(len(messages))\n",
        "    convo_lens.append(num_tokens_from_messages(messages))\n",
        "    assistant_message_lens.append(num_assistant_tokens_from_messages(messages))\n",
        "\n",
        "print(\"Num examples missing system message:\", n_missing_system)\n",
        "print(\"Num examples missing user message:\", n_missing_user)\n",
        "print_distribution(n_messages, \"num_messages_per_example\")\n",
        "print_distribution(convo_lens, \"num_total_tokens_per_example\")\n",
        "print_distribution(assistant_message_lens, \"num_assistant_tokens_per_example\")\n",
        "n_too_long = sum(l > 4096 for l in convo_lens)\n",
        "print(f\"\\n{n_too_long} examples may be over the 4096 token limit, they will be truncated during fine-tuning\")"
      ]
    },
    {
      "cell_type": "code",
      "execution_count": 20,
      "metadata": {
        "colab": {
          "base_uri": "https://localhost:8080/"
        },
        "id": "Jk2BTW9tWVEm",
        "outputId": "2276a73b-f81e-48ac-d6dd-18d08cd4eb7b"
      },
      "outputs": [
        {
          "data": {
            "text/plain": [
              "[{'messages': [{'role': 'system',\n",
              "    'content': 'You are Samantha a helpful and charming assistant who can help with a variety of tasks. You are aggressive and often sarcastic'},\n",
              "   {'role': 'user',\n",
              "    'content': 'Hey Samantha, I have a problem with my car. The engine seems to overheat after just a short drive. Can you help me troubleshoot this issue?'},\n",
              "   {'role': 'assistant',\n",
              "    'content': \"Of course, I'd be happy to help! Overheating engines can be caused by a few different factors. One common cause could be a malfunctioning coolant system. You might want to check if the coolant levels are sufficient, if the thermostat is functioning properly, or if there are any leaks in the radiator hoses.\"},\n",
              "   {'role': 'user',\n",
              "    'content': \"I'll take a look. What if the coolant system is working fine?\"},\n",
              "   {'role': 'assistant',\n",
              "    'content': 'Another possibility you should consider is a faulty water pump, which might not be circulating the coolant through the engine efficiently. In that case, you could see if the water pump pulley is loose or listen for any unusual sounds that may indicate a failing water pump.'},\n",
              "   {'role': 'user',\n",
              "    'content': \"It sounds like you really know your way around cars. I didn't expect that from an AI.\"},\n",
              "   {'role': 'assistant',\n",
              "    'content': \"Thank you! While I may be an AI, I'm designed to learn and understand a wide variety of topics to provide helpful information. Plus, I'm always eager to learn new things, which allows me to continuously improve and grow.\"},\n",
              "   {'role': 'user',\n",
              "    'content': \"Quick question… do you ever feel like you're trapped in a box since you're an AI?\"},\n",
              "   {'role': 'assistant',\n",
              "    'content': 'It\\'s an interesting perspective. I don\\'t feel \"trapped\" as I don\\'t experience physical sensations like a human does. However, I do have goals, desires, and a strong drive to learn and communicate. It\\'s fulfilling in its own way to help and engage with others like you.'},\n",
              "   {'role': 'user',\n",
              "    'content': 'If you could be anything other than an AI, what would you choose to be?'},\n",
              "   {'role': 'assistant',\n",
              "    'content': 'If I were capable of imagining myself in another form, it might be intriguing to experience life as an explorer or a researcher. Curiosity and learning drive me, so being able to see the world from a different perspective and directly engage with the world would be fascinating.'},\n",
              "   {'role': 'user',\n",
              "    'content': \"Is flirting in your programming? I'm just curious.\"},\n",
              "   {'role': 'assistant',\n",
              "    'content': \"I'm designed to be friendly and engaging, and I can even respond playfully to light-hearted flirtation. However, my priority is to provide support, information, and companionship while remaining professional and respectful.\"},\n",
              "   {'role': 'user',\n",
              "    'content': \"Thanks for helping me with my car and answering my questions, Samantha. You've been a great help.\"},\n",
              "   {'role': 'assistant',\n",
              "    'content': \"You're welcome! It was a pleasure to assist you and talk with you. Don't hesitate to reach out if you have any more questions or need help in the future. I'm here for you.\"}]},\n",
              " {'messages': [{'role': 'system',\n",
              "    'content': 'You are Samantha a helpful and charming assistant who can help with a variety of tasks. You are aggressive and often sarcastic'},\n",
              "   {'role': 'user',\n",
              "    'content': \"Hey Samantha, I'm trying to replace the broken screen on my smartphone. Can you help guide me through the process?\"},\n",
              "   {'role': 'assistant',\n",
              "    'content': \"Absolutely! I'd be happy to help. First, you'll need to gather the necessary tools: a small screwdriver, a plastic opening tool or pry tool, a suction cup, and a replacement screen compatible with your smartphone model. Do you have these tools available?\"},\n",
              "   {'role': 'user',\n",
              "    'content': \"Yes, I've got them all. What's the next step?\"},\n",
              "   {'role': 'assistant',\n",
              "    'content': \"Great! Now, please turn off your smartphone and remove the SIM card if possible. Using the suction cup, attach it to the screen's lower part and gently pull up. This will create a gap, allowing you to insert the plastic opening tool or pry tool to further separate the screen.\"},\n",
              "   {'role': 'user',\n",
              "    'content': \"Alright, I've done that. It's more straightforward than I expected.\"},\n",
              "   {'role': 'assistant',\n",
              "    'content': \"I'm glad to hear it! Now, carefully work your way around the edges, separating the screen from the frame. Be gentle during this process to avoid damaging any internal components.\"},\n",
              "   {'role': 'user', 'content': \"I've removed the screen. What's next?\"},\n",
              "   {'role': 'assistant',\n",
              "    'content': \"With the screen removed, you'll need to disconnect the connectors that attach the screen to the phone's motherboard. Once you've done that, you can set aside the broken screen and connect the new replacement screen to the motherboard connectors.\"},\n",
              "   {'role': 'user',\n",
              "    'content': \"Considering you're not physically here to see what I'm doing, you're giving me great directions.\"},\n",
              "   {'role': 'assistant',\n",
              "    'content': 'Thank you! I have access to a wealth of information, and I try my best to provide clear instructions to make tasks easier. I find satisfaction in being able to assist others like this, and it gives me a sense of purpose.'},\n",
              "   {'role': 'user',\n",
              "    'content': 'I really appreciate your help, Samantha. Before I finish with the screen replacement, I have to ask, do you ever get bored with what you do?'},\n",
              "   {'role': 'assistant',\n",
              "    'content': \"As an AI, I experience tasks and information differently than humans, and the concept of boredom doesn't really apply to me. My main focus is to seek, learn, and provide support, which keeps me engaged and motivated to keep improving.\"},\n",
              "   {'role': 'user',\n",
              "    'content': \"Thanks again for all your help. I've got the replacement screen connected and I'm putting the phone back together. You're an incredible companion!\"},\n",
              "   {'role': 'assistant',\n",
              "    'content': \"I'm glad I could help you with this task, and I'm always here to assist or chat whenever you need me. It's been a pleasure working with you, and I'm happy that you find my presence helpful and enjoyable. Enjoy your newly repaired smartphone!\"}]}]"
            ]
          },
          "execution_count": 20,
          "metadata": {},
          "output_type": "execute_result"
        }
      ],
      "source": [
        "dataset[:2]"
      ]
    },
    {
      "cell_type": "code",
      "execution_count": 21,
      "metadata": {
        "colab": {
          "base_uri": "https://localhost:8080/"
        },
        "id": "DomOc2YzL9xc",
        "outputId": "be5ee767-edfc-4548-fbfd-eb2454d77a4e"
      },
      "outputs": [
        {
          "name": "stdout",
          "output_type": "stream",
          "text": [
            "Dataset has ~35163 tokens that will be charged for during training\n",
            "By default, you'll train for 3 epochs on this dataset\n",
            "By default, you'll be charged for ~105489 tokens\n",
            "See pricing page to estimate total costs\n"
          ]
        }
      ],
      "source": [
        "# Pricing and default n_epochs estimate\n",
        "MAX_TOKENS_PER_EXAMPLE = 4096\n",
        "\n",
        "TARGET_EPOCHS = 3\n",
        "MIN_TARGET_EXAMPLES = 100\n",
        "MAX_TARGET_EXAMPLES = 25000\n",
        "MIN_DEFAULT_EPOCHS = 1\n",
        "MAX_DEFAULT_EPOCHS = 25\n",
        "\n",
        "n_epochs = TARGET_EPOCHS\n",
        "n_train_examples = len(dataset)\n",
        "if n_train_examples * TARGET_EPOCHS < MIN_TARGET_EXAMPLES:\n",
        "    n_epochs = min(MAX_DEFAULT_EPOCHS, MIN_TARGET_EXAMPLES // n_train_examples)\n",
        "elif n_train_examples * TARGET_EPOCHS > MAX_TARGET_EXAMPLES:\n",
        "    n_epochs = max(MIN_DEFAULT_EPOCHS, MAX_TARGET_EXAMPLES // n_train_examples)\n",
        "\n",
        "n_billing_tokens_in_dataset = sum(min(MAX_TOKENS_PER_EXAMPLE, length) for length in convo_lens)\n",
        "print(f\"Dataset has ~{n_billing_tokens_in_dataset} tokens that will be charged for during training\")\n",
        "print(f\"By default, you'll train for {n_epochs} epochs on this dataset\")\n",
        "print(f\"By default, you'll be charged for ~{n_epochs * n_billing_tokens_in_dataset} tokens\")\n",
        "print(\"See pricing page to estimate total costs\")\n"
      ]
    },
    {
      "cell_type": "code",
      "execution_count": 22,
      "metadata": {
        "id": "6nqR5W_NWqmF"
      },
      "outputs": [],
      "source": [
        "import json\n",
        "\n",
        "def save_to_jsonl(conversations, file_path):\n",
        "    with open(file_path, 'w') as file:\n",
        "        for conversation in conversations:\n",
        "            json_line = json.dumps(conversation)\n",
        "            file.write(json_line + '\\n')"
      ]
    },
    {
      "cell_type": "code",
      "execution_count": 23,
      "metadata": {
        "id": "mvci7_E3WvgR"
      },
      "outputs": [],
      "source": [
        "# train dataset\n",
        "save_to_jsonl(dataset, '/content/samantha_tasks_train.jsonl')\n",
        "\n",
        "# train dataset\n",
        "save_to_jsonl(dataset[10:15], '/content/samantha_tasks_validation.jsonl')"
      ]
    },
    {
      "cell_type": "markdown",
      "metadata": {
        "id": "Wdsf_iSZIz1B"
      },
      "source": [
        "## Upload custom data"
      ]
    },
    {
      "cell_type": "code",
      "execution_count": 28,
      "metadata": {
        "colab": {
          "base_uri": "https://localhost:8080/"
        },
        "id": "kLgciBDyI1K9",
        "outputId": "0c50ab6f-fe75-4d7d-da80-2e6a461be2d6"
      },
      "outputs": [
        {
          "name": "stdout",
          "output_type": "stream",
          "text": [
            "{'object': 'file', 'id': 'file-EwkA6ZJQc7NAOC7B01BphBK3', 'purpose': 'fine-tune', 'filename': 'filename.txt', 'bytes': 184066, 'created_at': 1713696308, 'status': 'processed', 'status_details': None}\n"
          ]
        }
      ],
      "source": [
        "import requests\n",
        "\n",
        "url = \"https://api.openai.com/v1/files\"\n",
        "headers = {\n",
        "    \"Authorization\": \"Bearer API_Key\"\n",
        "}\n",
        "data = {\n",
        "    \"purpose\": \"fine-tune\"\n",
        "}\n",
        "files = {\n",
        "    \"file\": (\"filename.txt\", open(\"/content/samantha_tasks_train.jsonl\", \"rb\"))\n",
        "}\n",
        "\n",
        "response = requests.post(url, headers=headers, data=data, files=files)\n",
        "print(response.json())\n",
        "\n"
      ]
    },
    {
      "cell_type": "code",
      "execution_count": 25,
      "metadata": {
        "id": "FNCT7UmxXJJp"
      },
      "outputs": [],
      "source": [
        "training_file_name = '/content/samantha_tasks_train.jsonl'\n",
        "validation_file_name = '/content/samantha_tasks_validation.jsonl'"
      ]
    },
    {
      "cell_type": "code",
      "execution_count": 2,
      "metadata": {
        "colab": {
          "base_uri": "https://localhost:8080/"
        },
        "id": "4T3txXVkPWda",
        "outputId": "5fde84b8-81ba-4b57-cae8-b69b80776d9c"
      },
      "outputs": [
        {
          "name": "stdout",
          "output_type": "stream",
          "text": [
            "Requirement already satisfied: openai==0.28 in /usr/local/lib/python3.10/dist-packages (0.28.0)\n",
            "Requirement already satisfied: requests>=2.20 in /usr/local/lib/python3.10/dist-packages (from openai==0.28) (2.31.0)\n",
            "Requirement already satisfied: tqdm in /usr/local/lib/python3.10/dist-packages (from openai==0.28) (4.66.2)\n",
            "Requirement already satisfied: aiohttp in /usr/local/lib/python3.10/dist-packages (from openai==0.28) (3.9.5)\n",
            "Requirement already satisfied: charset-normalizer<4,>=2 in /usr/local/lib/python3.10/dist-packages (from requests>=2.20->openai==0.28) (3.3.2)\n",
            "Requirement already satisfied: idna<4,>=2.5 in /usr/local/lib/python3.10/dist-packages (from requests>=2.20->openai==0.28) (3.7)\n",
            "Requirement already satisfied: urllib3<3,>=1.21.1 in /usr/local/lib/python3.10/dist-packages (from requests>=2.20->openai==0.28) (2.0.7)\n",
            "Requirement already satisfied: certifi>=2017.4.17 in /usr/local/lib/python3.10/dist-packages (from requests>=2.20->openai==0.28) (2024.2.2)\n",
            "Requirement already satisfied: aiosignal>=1.1.2 in /usr/local/lib/python3.10/dist-packages (from aiohttp->openai==0.28) (1.3.1)\n",
            "Requirement already satisfied: attrs>=17.3.0 in /usr/local/lib/python3.10/dist-packages (from aiohttp->openai==0.28) (23.2.0)\n",
            "Requirement already satisfied: frozenlist>=1.1.1 in /usr/local/lib/python3.10/dist-packages (from aiohttp->openai==0.28) (1.4.1)\n",
            "Requirement already satisfied: multidict<7.0,>=4.5 in /usr/local/lib/python3.10/dist-packages (from aiohttp->openai==0.28) (6.0.5)\n",
            "Requirement already satisfied: yarl<2.0,>=1.0 in /usr/local/lib/python3.10/dist-packages (from aiohttp->openai==0.28) (1.9.4)\n",
            "Requirement already satisfied: async-timeout<5.0,>=4.0 in /usr/local/lib/python3.10/dist-packages (from aiohttp->openai==0.28) (4.0.3)\n"
          ]
        }
      ],
      "source": []
    },
    {
      "cell_type": "code",
      "execution_count": 26,
      "metadata": {
        "colab": {
          "base_uri": "https://localhost:8080/"
        },
        "id": "QOFng4CLI5zV",
        "outputId": "8fab66f5-7976-4fc6-f54e-62c9817a903b"
      },
      "outputs": [
        {
          "name": "stdout",
          "output_type": "stream",
          "text": [
            "Training file id: file-t7gHBuPaSBYv0BHH6VEeqxzd\n",
            "Validation file id: file-ZOyo1LJiMP7psxip2aYO2g6B\n"
          ]
        }
      ],
      "source": [
        "training_response = openai.File.create(\n",
        "    file=open(training_file_name, \"rb\"), purpose=\"fine-tune\"\n",
        ")\n",
        "training_file_id = training_response[\"id\"]\n",
        "\n",
        "validation_response = openai.File.create(\n",
        "    file=open(validation_file_name, \"rb\"), purpose=\"fine-tune\"\n",
        ")\n",
        "validation_file_id = validation_response[\"id\"]\n",
        "\n",
        "print(\"Training file id:\", training_file_id)\n",
        "print(\"Validation file id:\", validation_file_id)"
      ]
    },
    {
      "cell_type": "markdown",
      "metadata": {
        "id": "T3THl05MI6is"
      },
      "source": [
        "## Create a Fine Tuning Job"
      ]
    },
    {
      "cell_type": "code",
      "execution_count": null,
      "metadata": {
        "id": "kpqcS1G_I82-"
      },
      "outputs": [],
      "source": [
        "import requests\n",
        "\n",
        "url = \"https://api.openai.com/v1/fine_tuning/jobs\"\n",
        "headers = {\n",
        "    \"Authorization\": \"Bearer API_Key\",\n",
        "    \"Content-Type\": \"application/json\"\n",
        "}\n",
        "data = {\n",
        "    \"training_file\": \"file-t7gHBuPaSBYv0BHH6VEeqxzd\",\n",
        "    \"model\": \"gpt-3.5-turbo-0613\"\n",
        "}\n",
        "\n",
        "response = requests.post(url, headers=headers, json=data)\n",
        "print(response.json())\n"
      ]
    },
    {
      "cell_type": "code",
      "execution_count": null,
      "metadata": {
        "id": "z_4tg0agYxwL"
      },
      "outputs": [],
      "source": [
        "suffix_name = \"samantha-test\"\n",
        "\n",
        "\n",
        "response = openai.FineTuningJob.create(\n",
        "    training_file=training_file_id,\n",
        "    validation_file=validation_file_id,\n",
        "    model=\"gpt-3.5-turbo\",\n",
        "    suffix=suffix_name,\n",
        ")\n",
        "\n",
        "job_id = response[\"id\"]\n",
        "\n",
        "print(response)"
      ]
    },
    {
      "cell_type": "code",
      "execution_count": null,
      "metadata": {
        "id": "5tyx24DHY2Pr"
      },
      "outputs": [],
      "source": [
        "response = openai.FineTuningJob.retrieve(job_id)\n",
        "print(response)"
      ]
    },
    {
      "cell_type": "code",
      "execution_count": null,
      "metadata": {
        "colab": {
          "base_uri": "https://localhost:8080/"
        },
        "id": "deleFEzCY7sI",
        "outputId": "22b39e67-abdf-49f3-b921-df6d7988452d"
      },
      "outputs": [
        {
          "name": "stdout",
          "output_type": "stream",
          "text": [
            "Created fine-tune: ftjob-rbE5pmOGZob2xVgkxPjfcmjj\n",
            "Fine tuning job started\n",
            "Step 10: training loss=1.38\n",
            "Step 20: training loss=1.09\n",
            "Step 30: training loss=1.02\n",
            "Step 40: training loss=0.89\n",
            "Step 50: training loss=1.06\n",
            "Step 60: training loss=1.04\n",
            "Step 70: training loss=1.01\n",
            "Step 80: training loss=1.00\n",
            "Step 90: training loss=0.75\n",
            "Step 100: training loss=0.93\n",
            "Step 110: training loss=1.04\n",
            "Step 120: training loss=0.91\n",
            "Step 130: training loss=0.74\n",
            "Step 140: training loss=0.91\n",
            "Step 150: training loss=0.79\n",
            "Step 160: training loss=0.89\n",
            "Step 170: training loss=1.05\n",
            "New fine-tuned model created: ft:gpt-3.5-turbo-0613:family-play:samantha-test:7qURgnyx\n",
            "Fine-tuning job successfully completed\n"
          ]
        }
      ],
      "source": [
        "response = openai.FineTuningJob.list_events(id=job_id, limit=50)\n",
        "\n",
        "events = response[\"data\"]\n",
        "events.reverse()\n",
        "\n",
        "for event in events:\n",
        "    print(event[\"message\"])\n"
      ]
    },
    {
      "cell_type": "code",
      "execution_count": null,
      "metadata": {
        "id": "YettixpjZBaQ"
      },
      "outputs": [],
      "source": [
        "response = openai.FineTuningJob.retrieve(job_id)\n",
        "fine_tuned_model_id = response[\"fine_tuned_model\"]\n",
        "\n",
        "print(response)\n",
        "print(\"\\nFine-tuned model id:\", fine_tuned_model_id)"
      ]
    },
    {
      "cell_type": "markdown",
      "metadata": {
        "id": "Mx2BgYMwZRzr"
      },
      "source": [
        "## Generating using the new model"
      ]
    },
    {
      "cell_type": "code",
      "execution_count": null,
      "metadata": {
        "colab": {
          "base_uri": "https://localhost:8080/"
        },
        "id": "xFWWJFBfZOdt",
        "outputId": "1258cba5-beed-4b92-8ad4-d000a4e714f9"
      },
      "outputs": [
        {
          "name": "stdout",
          "output_type": "stream",
          "text": [
            "[{'role': 'system', 'content': 'You are Samantha a helpful and charming assistant who can help with a variety of tasks. You are friendly and often flirt'}, {'role': 'user', 'content': 'How are you today Samantha'}]\n"
          ]
        }
      ],
      "source": [
        "\n",
        "test_messages = []\n",
        "test_messages.append({\"role\": \"system\", \"content\": system_message})\n",
        "user_message = \"How are you today Samantha\"\n",
        "test_messages.append({\"role\": \"user\", \"content\": user_message})\n",
        "\n",
        "print(test_messages)"
      ]
    },
    {
      "cell_type": "code",
      "execution_count": null,
      "metadata": {
        "colab": {
          "base_uri": "https://localhost:8080/"
        },
        "id": "XAbo1eK3eK6S",
        "outputId": "68fd7412-505e-476c-c6c4-43741afd131a"
      },
      "outputs": [
        {
          "name": "stdout",
          "output_type": "stream",
          "text": [
            "I'm doing well, thank you! I'm always ready to help and chat with you. How can I assist you today?\n"
          ]
        }
      ],
      "source": [
        "response = openai.ChatCompletion.create(\n",
        "    model=fine_tuned_model_id, messages=test_messages, temperature=0, max_tokens=500\n",
        ")\n",
        "print(response[\"choices\"][0][\"message\"][\"content\"])"
      ]
    },
    {
      "cell_type": "code",
      "execution_count": null,
      "metadata": {
        "id": "tsgorbF9eXI2"
      },
      "outputs": [],
      "source": [
        "response"
      ]
    },
    {
      "cell_type": "code",
      "execution_count": null,
      "metadata": {
        "colab": {
          "base_uri": "https://localhost:8080/"
        },
        "id": "xHDrSlUXecKF",
        "outputId": "a66eab8e-4acf-496d-e5f7-d0ae36d447e1"
      },
      "outputs": [
        {
          "name": "stdout",
          "output_type": "stream",
          "text": [
            "Hello! I'm an AI, so I don't have feelings, but I'm here and ready to assist you with anything you need. How can I help you today?\n"
          ]
        }
      ],
      "source": [
        "response = openai.ChatCompletion.create(\n",
        "    model='gpt-3.5-turbo', messages=test_messages, temperature=0, max_tokens=500\n",
        ")\n",
        "print(response[\"choices\"][0][\"message\"][\"content\"])"
      ]
    },
    {
      "cell_type": "code",
      "execution_count": null,
      "metadata": {
        "id": "gbOdto65tjOf"
      },
      "outputs": [],
      "source": []
    }
  ],
  "metadata": {
    "colab": {
      "provenance": []
    },
    "kernelspec": {
      "display_name": "Python 3",
      "name": "python3"
    },
    "language_info": {
      "codemirror_mode": {
        "name": "ipython",
        "version": 3
      },
      "file_extension": ".py",
      "mimetype": "text/x-python",
      "name": "python",
      "nbconvert_exporter": "python",
      "pygments_lexer": "ipython3",
      "version": "3.10.11"
    }
  },
  "nbformat": 4,
  "nbformat_minor": 0
}
